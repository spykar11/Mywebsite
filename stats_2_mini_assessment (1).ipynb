{
 "cells": [
  {
   "cell_type": "markdown",
   "metadata": {},
   "source": [
    "# Lesson 6 Mini Assessment\n",
    "\n",
    "This will be your last assessment and thus, it will be somewhat longer than any of the other assessments. You will be doing everything we have covered in class and publishing the results on GitHub.\n",
    "\n",
    "1. Go to [Kaggle Datasets](https://www.kaggle.com/datasets) and pick a dataset of your choosing. Preferrably in CSV or TSV format.\n",
    "2. Open a new Jupyter Notebook and give this Mini Assessment a compelling title.\n",
    "3. Add two to three paragraphs where you first describe the dataset and then the reason why you chose it.\n",
    "4. Create a table of contents that holds the general steps of the data analytics cycle.\n",
    "5. Create a section called **Load Data** and read in your data using pandas. Make sure you use at least one of the additional arguments of the method `.read_csv()`.\n",
    "6. Create a new section and inspect your data. Finish that section with 4 or 5 sentences on what you what you saw in the data. Any Inconsistencies or issues that where easy to spot since the beginning.\n",
    "7. Create a new section and get and deal with the missing values. At the end of the new section, write at least two paragraphs explaining the steps you took for dealing with missing values. Make sure you outlined any of the assumptions in your process, e.g. the distribution of X variable was highly skewed so I choose to fill in values using the median instead.\n",
    "8. Describe and visualise your data. Call this Section Exploratory Data Analysis.\n",
    "    - Create at least 2 pivot tables and describe what is in it. Your aggregation function, variables chosen, etc.\n",
    "    - Use at least 2 `.groupby()` methods and explain your logic behind it.\n",
    "    - Create 7 visualisations showing different variables and combinations of your variables. At least one of them has to be interactive. They should have a title, and labels where appropriate. Explain each one of your charts with at least a paragraph.\n",
    "9. Write a concluding paragraph summarising what you have done.\n",
    "10. Add a section called **Future Work** and add at least 5 hypotheses that would be interesting for you to test with that data later on.\n",
    "11. Create a folder for this mini-assessment. Add a README.md file and explain what your notebook contains. Share the link to your repo with a classmate kindly requesting feedback. Send it to your instructor as well."
   ]
  }
 ],
 "metadata": {
  "kernelspec": {
   "display_name": "Python 3",
   "language": "python",
   "name": "python3"
  },
  "language_info": {
   "codemirror_mode": {
    "name": "ipython",
    "version": 3
   },
   "file_extension": ".py",
   "mimetype": "text/x-python",
   "name": "python",
   "nbconvert_exporter": "python",
   "pygments_lexer": "ipython3",
   "version": "3.7.6"
  }
 },
 "nbformat": 4,
 "nbformat_minor": 4
}
